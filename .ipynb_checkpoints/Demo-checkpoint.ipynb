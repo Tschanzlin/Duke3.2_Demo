{
 "cells": [
  {
   "cell_type": "code",
   "execution_count": 50,
   "metadata": {},
   "outputs": [
    {
     "name": "stdout",
     "output_type": "stream",
     "text": [
      "Files found: ../Duke3.2_Demo\\Demo.ipynb\n",
      "Files found: ../Duke3.2_Demo\\README.md\n",
      "Files found: ../Duke3.2_Demo\\Untitled.ipynb\n",
      "Files found: ../Duke3.2_Demo\\.git\\config\n",
      "Files found: ../Duke3.2_Demo\\.git\\description\n",
      "Files found: ../Duke3.2_Demo\\.git\\HEAD\n",
      "Files found: ../Duke3.2_Demo\\.git\\index\n",
      "Files found: ../Duke3.2_Demo\\.git\\packed-refs\n",
      "---\n",
      "8\n"
     ]
    }
   ],
   "source": [
    "# Import os module and loop through directoriesand files in parent directory\n",
    "\n",
    "import os\n",
    "\n",
    "count = 0\n",
    "for root, directories, files in os.walk('../Duke3.2_Demo'):\n",
    "    for _file in files:\n",
    "        full_path = os.path.join(root, _file)\n",
    "        print (f'Files found: {full_path}')\n",
    "        count += 1\n",
    "    if count > 5:\n",
    "        break\n",
    "print ('---')            \n",
    "print (count)"
   ]
  },
  {
   "cell_type": "code",
   "execution_count": 52,
   "metadata": {},
   "outputs": [
    {
     "name": "stdout",
     "output_type": "stream",
     "text": [
      "Size: 3671b,  Files found: ../Duke3.2_Demo\\Demo.ipynb\n",
      "Size: 194b,  Files found: ../Duke3.2_Demo\\README.md\n",
      "Size: 3522b,  Files found: ../Duke3.2_Demo\\Untitled.ipynb\n",
      "Size: 301b,  Files found: ../Duke3.2_Demo\\.git\\config\n",
      "Size: 73b,  Files found: ../Duke3.2_Demo\\.git\\description\n",
      "Size: 21b,  Files found: ../Duke3.2_Demo\\.git\\HEAD\n",
      "Size: 137b,  Files found: ../Duke3.2_Demo\\.git\\index\n",
      "Size: 112b,  Files found: ../Duke3.2_Demo\\.git\\packed-refs\n",
      "---\n",
      "8\n"
     ]
    }
   ],
   "source": [
    "# Update loop to include file size; use unique filepath as key for file size\n",
    "\n",
    "count = 0\n",
    "for root, directories, files in os.walk('../Duke3.2_Demo'):\n",
    "    for _file in files:\n",
    "        full_path = os.path.join(root, _file)\n",
    "        size = os.path.getsize(full_path)\n",
    "        print (f'Size: {size}b,  Files found: {full_path}')\n",
    "        count += 1\n",
    "    if count > 5:\n",
    "        break\n",
    "print ('---')            \n",
    "print (count)"
   ]
  },
  {
   "cell_type": "code",
   "execution_count": 53,
   "metadata": {},
   "outputs": [
    {
     "name": "stdout",
     "output_type": "stream",
     "text": [
      "{'../Duke3.2_Demo\\\\Demo.ipynb': 3671, '../Duke3.2_Demo\\\\README.md': 194, '../Duke3.2_Demo\\\\Untitled.ipynb': 3522, '../Duke3.2_Demo\\\\.git\\\\config': 301, '../Duke3.2_Demo\\\\.git\\\\description': 73, '../Duke3.2_Demo\\\\.git\\\\HEAD': 21, '../Duke3.2_Demo\\\\.git\\\\index': 137, '../Duke3.2_Demo\\\\.git\\\\packed-refs': 112, '../Duke3.2_Demo\\\\.git\\\\hooks\\\\applypatch-msg.sample': 478, '../Duke3.2_Demo\\\\.git\\\\hooks\\\\commit-msg.sample': 896, '../Duke3.2_Demo\\\\.git\\\\hooks\\\\fsmonitor-watchman.sample': 4655, '../Duke3.2_Demo\\\\.git\\\\hooks\\\\post-update.sample': 189, '../Duke3.2_Demo\\\\.git\\\\hooks\\\\pre-applypatch.sample': 424, '../Duke3.2_Demo\\\\.git\\\\hooks\\\\pre-commit.sample': 1643, '../Duke3.2_Demo\\\\.git\\\\hooks\\\\pre-merge-commit.sample': 416, '../Duke3.2_Demo\\\\.git\\\\hooks\\\\pre-push.sample': 1348, '../Duke3.2_Demo\\\\.git\\\\hooks\\\\pre-rebase.sample': 4898, '../Duke3.2_Demo\\\\.git\\\\hooks\\\\pre-receive.sample': 544, '../Duke3.2_Demo\\\\.git\\\\hooks\\\\prepare-commit-msg.sample': 1492, '../Duke3.2_Demo\\\\.git\\\\hooks\\\\update.sample': 3635, '../Duke3.2_Demo\\\\.git\\\\info\\\\exclude': 240, '../Duke3.2_Demo\\\\.git\\\\logs\\\\HEAD': 195, '../Duke3.2_Demo\\\\.git\\\\logs\\\\refs\\\\heads\\\\main': 195, '../Duke3.2_Demo\\\\.git\\\\logs\\\\refs\\\\remotes\\\\origin\\\\HEAD': 195, '../Duke3.2_Demo\\\\.git\\\\objects\\\\pack\\\\pack-51a5d7f174ee9bdf2e8ae44bd5c553bfd7ba1aee.idx': 1240, '../Duke3.2_Demo\\\\.git\\\\objects\\\\pack\\\\pack-51a5d7f174ee9bdf2e8ae44bd5c553bfd7ba1aee.pack': 1372, '../Duke3.2_Demo\\\\.git\\\\refs\\\\heads\\\\main': 41, '../Duke3.2_Demo\\\\.git\\\\refs\\\\remotes\\\\origin\\\\HEAD': 30, '../Duke3.2_Demo\\\\.ipynb_checkpoints\\\\Demo-checkpoint.ipynb': 3522, '../Duke3.2_Demo\\\\.ipynb_checkpoints\\\\Untitled-checkpoint.ipynb': 3522}\n"
     ]
    }
   ],
   "source": [
    "# Persist the data into a dictionary\n",
    "\n",
    "file_metadata = {}\n",
    "for root, directories, files in os.walk('../Duke3.2_Demo'):\n",
    "    for _file in files:\n",
    "        full_path = os.path.join(root, _file)\n",
    "        size = os.path.getsize(full_path)\n",
    "        file_metadata[full_path] = size\n",
    "\n",
    "print(file_metadata)\n"
   ]
  },
  {
   "cell_type": "code",
   "execution_count": 56,
   "metadata": {},
   "outputs": [
    {
     "name": "stdout",
     "output_type": "stream",
     "text": [
      "Size: 4898b,  Path: ../Duke3.2_Demo\\.git\\hooks\\pre-rebase.sample\n",
      "Size: 4655b,  Path: ../Duke3.2_Demo\\.git\\hooks\\fsmonitor-watchman.sample\n",
      "Size: 3671b,  Path: ../Duke3.2_Demo\\Demo.ipynb\n",
      "Size: 3635b,  Path: ../Duke3.2_Demo\\.git\\hooks\\update.sample\n",
      "Size: 3522b,  Path: ../Duke3.2_Demo\\Untitled.ipynb\n"
     ]
    }
   ],
   "source": [
    "# Use the sort function to to sort meta_data by size and print output of top 10 largest files:\n",
    "\n",
    "items = 0\n",
    "    \n",
    "for path, size in sorted(file_metadata.items(), key=lambda x:x[1], reverse=True):\n",
    "    if items > 4:\n",
    "        break\n",
    "    print(f\"Size: {size}b,  Path: {path}\")\n",
    "    items += 1"
   ]
  },
  {
   "cell_type": "code",
   "execution_count": null,
   "metadata": {},
   "outputs": [],
   "source": []
  },
  {
   "cell_type": "code",
   "execution_count": null,
   "metadata": {},
   "outputs": [],
   "source": []
  },
  {
   "cell_type": "code",
   "execution_count": null,
   "metadata": {},
   "outputs": [],
   "source": []
  }
 ],
 "metadata": {
  "kernelspec": {
   "display_name": "Python 3",
   "language": "python",
   "name": "python3"
  },
  "language_info": {
   "codemirror_mode": {
    "name": "ipython",
    "version": 3
   },
   "file_extension": ".py",
   "mimetype": "text/x-python",
   "name": "python",
   "nbconvert_exporter": "python",
   "pygments_lexer": "ipython3",
   "version": "3.7.6"
  }
 },
 "nbformat": 4,
 "nbformat_minor": 4
}
