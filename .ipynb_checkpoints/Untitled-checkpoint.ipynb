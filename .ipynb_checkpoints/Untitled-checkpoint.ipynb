{
 "cells": [
  {
   "cell_type": "code",
   "execution_count": 44,
   "metadata": {},
   "outputs": [
    {
     "name": "stdout",
     "output_type": "stream",
     "text": [
      "Files found: ../Duke3.2_Demo\\README.md\n",
      "Files found: ../Duke3.2_Demo\\Untitled.ipynb\n",
      "Files found: ../Duke3.2_Demo\\.git\\config\n",
      "Files found: ../Duke3.2_Demo\\.git\\description\n",
      "Files found: ../Duke3.2_Demo\\.git\\HEAD\n",
      "Files found: ../Duke3.2_Demo\\.git\\index\n",
      "Files found: ../Duke3.2_Demo\\.git\\packed-refs\n",
      "---\n",
      "7\n"
     ]
    }
   ],
   "source": [
    "# Import os module and loop through directoriesand files in parent directory\n",
    "\n",
    "import os\n",
    "\n",
    "count = 0\n",
    "for root, directories, files in os.walk('../Duke3.2_Demo'):\n",
    "    for _file in files:\n",
    "        full_path = os.path.join(root, _file)\n",
    "        print (f'Files found: {full_path}')\n",
    "        count += 1\n",
    "    if count > 5:\n",
    "        break\n",
    "print ('---')            \n",
    "print (count)"
   ]
  },
  {
   "cell_type": "code",
   "execution_count": 47,
   "metadata": {},
   "outputs": [
    {
     "name": "stdout",
     "output_type": "stream",
     "text": [
      "Size:  194b,  Files found: ../Duke3.2_Demo\\README.md\n",
      "Size:  5269b,  Files found: ../Duke3.2_Demo\\Untitled.ipynb\n",
      "Size:  301b,  Files found: ../Duke3.2_Demo\\.git\\config\n",
      "Size:  73b,  Files found: ../Duke3.2_Demo\\.git\\description\n",
      "Size:  21b,  Files found: ../Duke3.2_Demo\\.git\\HEAD\n",
      "Size:  137b,  Files found: ../Duke3.2_Demo\\.git\\index\n",
      "Size:  112b,  Files found: ../Duke3.2_Demo\\.git\\packed-refs\n",
      "---\n",
      "7\n"
     ]
    }
   ],
   "source": [
    "# Update loop to include file size\n",
    "\n",
    "count = 0\n",
    "for root, directories, files in os.walk('../Duke3.2_Demo'):\n",
    "    for _file in files:\n",
    "        full_path = os.path.join(root, _file)\n",
    "        size = os.path.getsize(full_path)\n",
    "        print (f'Size:  {size}b,  Files found: {full_path}')\n",
    "        count += 1\n",
    "    if count > 5:\n",
    "        break\n",
    "print ('---')            \n",
    "print (count)"
   ]
  },
  {
   "cell_type": "code",
   "execution_count": null,
   "metadata": {},
   "outputs": [],
   "source": [
    "for root, directories, files in os.walk('~/OneDrive/Desktop/_DataScience'):"
   ]
  },
  {
   "cell_type": "code",
   "execution_count": null,
   "metadata": {},
   "outputs": [],
   "source": [
    "for root, directories, files in os.walk('../Duke3.2_Demo/Course3/\"Python and Pandas for Data Engineering\"'):"
   ]
  },
  {
   "cell_type": "code",
   "execution_count": null,
   "metadata": {},
   "outputs": [],
   "source": []
  },
  {
   "cell_type": "code",
   "execution_count": null,
   "metadata": {},
   "outputs": [],
   "source": []
  },
  {
   "cell_type": "code",
   "execution_count": null,
   "metadata": {},
   "outputs": [],
   "source": []
  }
 ],
 "metadata": {
  "kernelspec": {
   "display_name": "Python 3",
   "language": "python",
   "name": "python3"
  },
  "language_info": {
   "codemirror_mode": {
    "name": "ipython",
    "version": 3
   },
   "file_extension": ".py",
   "mimetype": "text/x-python",
   "name": "python",
   "nbconvert_exporter": "python",
   "pygments_lexer": "ipython3",
   "version": "3.7.6"
  }
 },
 "nbformat": 4,
 "nbformat_minor": 4
}
